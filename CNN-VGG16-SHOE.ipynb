{
 "cells": [
  {
   "cell_type": "markdown",
   "id": "66766e8e",
   "metadata": {},
   "source": [
    "## CNN MODELING OF NIKE,CONVERSE AND ADIDAS DATASET FROM KAGGLE USING VGG16(TRANSFER LEARNING)"
   ]
  },
  {
   "cell_type": "code",
   "execution_count": 1,
   "id": "e4f2ea8e",
   "metadata": {},
   "outputs": [
    {
     "name": "stderr",
     "output_type": "stream",
     "text": [
      "C:\\Users\\SUBARTHIN\\.conda\\envs\\tf\\lib\\site-packages\\scipy\\__init__.py:146: UserWarning: A NumPy version >=1.16.5 and <1.23.0 is required for this version of SciPy (detected version 1.23.3\n",
      "  warnings.warn(f\"A NumPy version >={np_minversion} and <{np_maxversion}\"\n"
     ]
    }
   ],
   "source": [
    "# vgg16\n",
    "import keras,os\n",
    "from keras.models import Sequential\n",
    "from keras.layers import Dense, Conv2D, MaxPool2D , Flatten\n",
    "from keras.preprocessing.image import ImageDataGenerator\n",
    "import numpy as np\n",
    "from keras.applications.vgg16 import VGG16\n",
    "from glob import glob\n",
    "from keras.models import Model\n",
    "import tensorflow "
   ]
  },
  {
   "cell_type": "code",
   "execution_count": 2,
   "id": "f0b3d482",
   "metadata": {},
   "outputs": [],
   "source": [
    "#Using VGG16 model with predefined imagenet weights\n",
    "vgg = VGG16(input_shape=[240,240,3], weights='imagenet', include_top=False)"
   ]
  },
  {
   "cell_type": "code",
   "execution_count": 3,
   "id": "f864db7e",
   "metadata": {},
   "outputs": [],
   "source": [
    "#finding number of individual files in train folder\n",
    "folders = glob(\"C:/Users/SUBARTHIN/input/nike-adidas-and-converse-imaged/train/*\")"
   ]
  },
  {
   "cell_type": "code",
   "execution_count": 4,
   "id": "2101383b",
   "metadata": {},
   "outputs": [],
   "source": [
    "#skipping training of layers\n",
    "for layer in vgg.layers:\n",
    "  layer.trainable = False\n",
    "x = Flatten()(vgg.output)"
   ]
  },
  {
   "cell_type": "code",
   "execution_count": 5,
   "id": "9d759491",
   "metadata": {},
   "outputs": [],
   "source": [
    "# creating a dense layer with no. of neurons matching the no. of images\n",
    "prediction = Dense(len(folders), activation='softmax')(x)"
   ]
  },
  {
   "cell_type": "code",
   "execution_count": 6,
   "id": "35fc66d6",
   "metadata": {},
   "outputs": [],
   "source": [
    "#model building\n",
    "model = Model(inputs=vgg.input, outputs=prediction)"
   ]
  },
  {
   "cell_type": "code",
   "execution_count": 7,
   "id": "8dd77bd1",
   "metadata": {},
   "outputs": [
    {
     "name": "stdout",
     "output_type": "stream",
     "text": [
      "Model: \"model\"\n",
      "_________________________________________________________________\n",
      " Layer (type)                Output Shape              Param #   \n",
      "=================================================================\n",
      " input_1 (InputLayer)        [(None, 240, 240, 3)]     0         \n",
      "                                                                 \n",
      " block1_conv1 (Conv2D)       (None, 240, 240, 64)      1792      \n",
      "                                                                 \n",
      " block1_conv2 (Conv2D)       (None, 240, 240, 64)      36928     \n",
      "                                                                 \n",
      " block1_pool (MaxPooling2D)  (None, 120, 120, 64)      0         \n",
      "                                                                 \n",
      " block2_conv1 (Conv2D)       (None, 120, 120, 128)     73856     \n",
      "                                                                 \n",
      " block2_conv2 (Conv2D)       (None, 120, 120, 128)     147584    \n",
      "                                                                 \n",
      " block2_pool (MaxPooling2D)  (None, 60, 60, 128)       0         \n",
      "                                                                 \n",
      " block3_conv1 (Conv2D)       (None, 60, 60, 256)       295168    \n",
      "                                                                 \n",
      " block3_conv2 (Conv2D)       (None, 60, 60, 256)       590080    \n",
      "                                                                 \n",
      " block3_conv3 (Conv2D)       (None, 60, 60, 256)       590080    \n",
      "                                                                 \n",
      " block3_pool (MaxPooling2D)  (None, 30, 30, 256)       0         \n",
      "                                                                 \n",
      " block4_conv1 (Conv2D)       (None, 30, 30, 512)       1180160   \n",
      "                                                                 \n",
      " block4_conv2 (Conv2D)       (None, 30, 30, 512)       2359808   \n",
      "                                                                 \n",
      " block4_conv3 (Conv2D)       (None, 30, 30, 512)       2359808   \n",
      "                                                                 \n",
      " block4_pool (MaxPooling2D)  (None, 15, 15, 512)       0         \n",
      "                                                                 \n",
      " block5_conv1 (Conv2D)       (None, 15, 15, 512)       2359808   \n",
      "                                                                 \n",
      " block5_conv2 (Conv2D)       (None, 15, 15, 512)       2359808   \n",
      "                                                                 \n",
      " block5_conv3 (Conv2D)       (None, 15, 15, 512)       2359808   \n",
      "                                                                 \n",
      " block5_pool (MaxPooling2D)  (None, 7, 7, 512)         0         \n",
      "                                                                 \n",
      " flatten (Flatten)           (None, 25088)             0         \n",
      "                                                                 \n",
      " dense (Dense)               (None, 3)                 75267     \n",
      "                                                                 \n",
      "=================================================================\n",
      "Total params: 14,789,955\n",
      "Trainable params: 75,267\n",
      "Non-trainable params: 14,714,688\n",
      "_________________________________________________________________\n"
     ]
    }
   ],
   "source": [
    "#summary of model\n",
    "model.summary()"
   ]
  },
  {
   "cell_type": "code",
   "execution_count": 8,
   "id": "57ddf817",
   "metadata": {},
   "outputs": [],
   "source": [
    "#compilation\n",
    "model.compile(\n",
    "  loss='categorical_crossentropy',\n",
    "  optimizer='adam',\n",
    "  metrics=['accuracy']\n",
    ")"
   ]
  },
  {
   "cell_type": "code",
   "execution_count": 9,
   "id": "a3329136",
   "metadata": {},
   "outputs": [
    {
     "name": "stdout",
     "output_type": "stream",
     "text": [
      "Found 711 images belonging to 3 classes.\n",
      "Found 114 images belonging to 3 classes.\n"
     ]
    }
   ],
   "source": [
    "# using Imagedatagenerator to scale normalize the images and generating more images from existing ones\n",
    "from keras.preprocessing.image import ImageDataGenerator\n",
    "\n",
    "train_datagen = ImageDataGenerator(rescale = 1./255,\n",
    "                                   shear_range = 0.2,\n",
    "                                   zoom_range = 0.2,\n",
    "                                   horizontal_flip = True)\n",
    "\n",
    "test_datagen = ImageDataGenerator(rescale = 1./255)\n",
    "\n",
    "training_set = train_datagen.flow_from_directory('C:/Users/SUBARTHIN/input/nike-adidas-and-converse-imaged/train',\n",
    "                                                 target_size = (240, 240),\n",
    "                                                 batch_size = 32,\n",
    "                                                 class_mode = 'categorical')\n",
    "\n",
    "test_set = test_datagen.flow_from_directory('C:/Users/SUBARTHIN/input/nike-adidas-and-converse-imaged/test',\n",
    "                                            target_size = (240, 240),\n",
    "                                            batch_size = 32,\n",
    "                                            class_mode = 'categorical')"
   ]
  },
  {
   "cell_type": "code",
   "execution_count": 10,
   "id": "d615dd00",
   "metadata": {},
   "outputs": [
    {
     "name": "stdout",
     "output_type": "stream",
     "text": [
      "Epoch 1/20\n",
      "23/23 [==============================] - 20s 527ms/step - loss: 1.4662 - accuracy: 0.4754 - val_loss: 1.2460 - val_accuracy: 0.4825\n",
      "Epoch 2/20\n",
      "23/23 [==============================] - 7s 316ms/step - loss: 0.6162 - accuracy: 0.7525 - val_loss: 0.5757 - val_accuracy: 0.7368\n",
      "Epoch 3/20\n",
      "23/23 [==============================] - 8s 321ms/step - loss: 0.4203 - accuracy: 0.8397 - val_loss: 0.5253 - val_accuracy: 0.7895\n",
      "Epoch 4/20\n",
      "23/23 [==============================] - 7s 321ms/step - loss: 0.2910 - accuracy: 0.9086 - val_loss: 0.4731 - val_accuracy: 0.8421\n",
      "Epoch 5/20\n",
      "23/23 [==============================] - 7s 320ms/step - loss: 0.2524 - accuracy: 0.9156 - val_loss: 0.4893 - val_accuracy: 0.8158\n",
      "Epoch 6/20\n",
      "23/23 [==============================] - 8s 322ms/step - loss: 0.2058 - accuracy: 0.9395 - val_loss: 0.4763 - val_accuracy: 0.8246\n",
      "Epoch 7/20\n",
      "23/23 [==============================] - 7s 331ms/step - loss: 0.1730 - accuracy: 0.9634 - val_loss: 0.4789 - val_accuracy: 0.8158\n",
      "Epoch 8/20\n",
      "23/23 [==============================] - 7s 321ms/step - loss: 0.1441 - accuracy: 0.9733 - val_loss: 0.4707 - val_accuracy: 0.8070\n",
      "Epoch 9/20\n",
      "23/23 [==============================] - 7s 320ms/step - loss: 0.1329 - accuracy: 0.9747 - val_loss: 0.5027 - val_accuracy: 0.8158\n",
      "Epoch 10/20\n",
      "23/23 [==============================] - 8s 322ms/step - loss: 0.1072 - accuracy: 0.9845 - val_loss: 0.4770 - val_accuracy: 0.8070\n",
      "Epoch 11/20\n",
      "23/23 [==============================] - 7s 316ms/step - loss: 0.1136 - accuracy: 0.9705 - val_loss: 0.4391 - val_accuracy: 0.8333\n",
      "Epoch 12/20\n",
      "23/23 [==============================] - 7s 319ms/step - loss: 0.0818 - accuracy: 0.9873 - val_loss: 0.4665 - val_accuracy: 0.8070\n",
      "Epoch 13/20\n",
      "23/23 [==============================] - 7s 320ms/step - loss: 0.0668 - accuracy: 0.9902 - val_loss: 0.4843 - val_accuracy: 0.7982\n",
      "Epoch 14/20\n",
      "23/23 [==============================] - 7s 320ms/step - loss: 0.0698 - accuracy: 0.9902 - val_loss: 0.4131 - val_accuracy: 0.8158\n",
      "Epoch 15/20\n",
      "23/23 [==============================] - 8s 324ms/step - loss: 0.0585 - accuracy: 0.9958 - val_loss: 0.4186 - val_accuracy: 0.8246\n",
      "Epoch 16/20\n",
      "23/23 [==============================] - 7s 321ms/step - loss: 0.0455 - accuracy: 0.9972 - val_loss: 0.4866 - val_accuracy: 0.7982\n",
      "Epoch 17/20\n",
      "23/23 [==============================] - 7s 319ms/step - loss: 0.0474 - accuracy: 0.9986 - val_loss: 0.4802 - val_accuracy: 0.8421\n",
      "Epoch 18/20\n",
      "23/23 [==============================] - 7s 321ms/step - loss: 0.0524 - accuracy: 0.9958 - val_loss: 0.4396 - val_accuracy: 0.8333\n",
      "Epoch 19/20\n",
      "23/23 [==============================] - 8s 323ms/step - loss: 0.0371 - accuracy: 0.9986 - val_loss: 0.3968 - val_accuracy: 0.8509\n",
      "Epoch 20/20\n",
      "23/23 [==============================] - 8s 325ms/step - loss: 0.0357 - accuracy: 1.0000 - val_loss: 0.4150 - val_accuracy: 0.8509\n"
     ]
    }
   ],
   "source": [
    "#fitting and evaluating the model\n",
    "r = model.fit(\n",
    "  training_set,\n",
    "  validation_data=test_set,\n",
    "  epochs=20,\n",
    "  steps_per_epoch=len(training_set),\n",
    "  validation_steps=len(test_set)\n",
    ")"
   ]
  },
  {
   "cell_type": "code",
   "execution_count": 11,
   "id": "8a0db5c9",
   "metadata": {},
   "outputs": [
    {
     "name": "stdout",
     "output_type": "stream",
     "text": [
      "Epoch 1/100\n",
      "WARNING:tensorflow:Can save best model only with val_acc available, skipping.\n",
      "  1/100 [..............................] - ETA: 41s - loss: 0.0306 - accuracy: 1.0000WARNING:tensorflow:Can save best model only with val_acc available, skipping.\n",
      "  2/100 [..............................] - ETA: 29s - loss: 0.0326 - accuracy: 1.0000WARNING:tensorflow:Can save best model only with val_acc available, skipping.\n",
      "  3/100 [..............................] - ETA: 30s - loss: 0.0385 - accuracy: 1.0000WARNING:tensorflow:Can save best model only with val_acc available, skipping.\n",
      "  4/100 [>.............................] - ETA: 29s - loss: 0.0357 - accuracy: 1.0000WARNING:tensorflow:Can save best model only with val_acc available, skipping.\n",
      "WARNING:tensorflow:Can save best model only with val_acc available, skipping.\n",
      "  6/100 [>.............................] - ETA: 25s - loss: 0.0320 - accuracy: 1.0000WARNING:tensorflow:Can save best model only with val_acc available, skipping.\n",
      "  7/100 [=>............................] - ETA: 25s - loss: 0.0349 - accuracy: 1.0000WARNING:tensorflow:Can save best model only with val_acc available, skipping.\n",
      "  8/100 [=>............................] - ETA: 25s - loss: 0.0388 - accuracy: 1.0000WARNING:tensorflow:Can save best model only with val_acc available, skipping.\n",
      "  9/100 [=>............................] - ETA: 25s - loss: 0.0419 - accuracy: 1.0000WARNING:tensorflow:Can save best model only with val_acc available, skipping.\n",
      " 10/100 [==>...........................] - ETA: 25s - loss: 0.0423 - accuracy: 1.0000WARNING:tensorflow:Can save best model only with val_acc available, skipping.\n",
      " 11/100 [==>...........................] - ETA: 25s - loss: 0.0411 - accuracy: 1.0000WARNING:tensorflow:Can save best model only with val_acc available, skipping.\n",
      " 12/100 [==>...........................] - ETA: 25s - loss: 0.0409 - accuracy: 1.0000WARNING:tensorflow:Can save best model only with val_acc available, skipping.\n",
      " 13/100 [==>...........................] - ETA: 25s - loss: 0.0423 - accuracy: 1.0000WARNING:tensorflow:Can save best model only with val_acc available, skipping.\n",
      " 14/100 [===>..........................] - ETA: 25s - loss: 0.0438 - accuracy: 1.0000WARNING:tensorflow:Can save best model only with val_acc available, skipping.\n",
      " 15/100 [===>..........................] - ETA: 25s - loss: 0.0435 - accuracy: 1.0000WARNING:tensorflow:Can save best model only with val_acc available, skipping.\n",
      " 16/100 [===>..........................] - ETA: 24s - loss: 0.0430 - accuracy: 1.0000WARNING:tensorflow:Can save best model only with val_acc available, skipping.\n",
      " 17/100 [====>.........................] - ETA: 24s - loss: 0.0419 - accuracy: 1.0000WARNING:tensorflow:Can save best model only with val_acc available, skipping.\n",
      " 18/100 [====>.........................] - ETA: 24s - loss: 0.0437 - accuracy: 0.9982WARNING:tensorflow:Can save best model only with val_acc available, skipping.\n",
      " 19/100 [====>.........................] - ETA: 24s - loss: 0.0424 - accuracy: 0.9983WARNING:tensorflow:Can save best model only with val_acc available, skipping.\n",
      " 20/100 [=====>........................] - ETA: 23s - loss: 0.0417 - accuracy: 0.9984WARNING:tensorflow:Can save best model only with val_acc available, skipping.\n",
      " 21/100 [=====>........................] - ETA: 23s - loss: 0.0417 - accuracy: 0.9985WARNING:tensorflow:Can save best model only with val_acc available, skipping.\n",
      " 22/100 [=====>........................] - ETA: 23s - loss: 0.0413 - accuracy: 0.9985WARNING:tensorflow:Can save best model only with val_acc available, skipping.\n",
      " 23/100 [=====>........................] - ETA: 23s - loss: 0.0403 - accuracy: 0.9986WARNING:tensorflow:Your input ran out of data; interrupting training. Make sure that your dataset or generator can generate at least `steps_per_epoch * epochs` batches (in this case, 10000 batches). You may need to use the repeat() function when building your dataset.\n",
      "WARNING:tensorflow:Your input ran out of data; interrupting training. Make sure that your dataset or generator can generate at least `steps_per_epoch * epochs` batches (in this case, 10 batches). You may need to use the repeat() function when building your dataset.\n",
      "WARNING:tensorflow:Early stopping conditioned on metric `val_acc` which is not available. Available metrics are: loss,accuracy,val_loss,val_accuracy\n",
      "100/100 [==============================] - 8s 79ms/step - loss: 0.0403 - accuracy: 0.9986 - val_loss: 0.4474 - val_accuracy: 0.8158\n"
     ]
    }
   ],
   "source": [
    "#checpoint to get highest validation accuracy\n",
    "from keras.callbacks import ModelCheckpoint, EarlyStopping\n",
    "checkpoint = ModelCheckpoint(\"vgg16_1.h5\", monitor='val_acc', verbose=1, save_best_only=True, save_weights_only=False, mode='auto', save_freq=1)\n",
    "early = EarlyStopping(monitor='val_acc', min_delta=0, patience=20, verbose=1, mode='auto')\n",
    "hist = model.fit(training_set,steps_per_epoch=100, validation_data= test_set, validation_steps=10,epochs=100,callbacks=[checkpoint,early])"
   ]
  },
  {
   "cell_type": "code",
   "execution_count": 12,
   "id": "217e9738",
   "metadata": {},
   "outputs": [
    {
     "data": {
      "image/png": "[encoded data removed]",
      "text/plain": [
       "<Figure size 640x480 with 1 Axes>"
      ]
     },
     "metadata": {},
     "output_type": "display_data"
    },
    {
     "data": {
      "text/plain": [
       "<Figure size 640x480 with 0 Axes>"
      ]
     },
     "metadata": {},
     "output_type": "display_data"
    }
   ],
   "source": [
    "import matplotlib.pyplot as plt\n",
    "plt.plot(r.history['loss'], label='train loss')\n",
    "plt.plot(r.history['val_loss'], label='val loss')\n",
    "plt.legend()\n",
    "plt.show()\n",
    "plt.savefig('LossVal_loss')"
   ]
  },
  {
   "cell_type": "code",
   "execution_count": 13,
   "id": "a41f52b8",
   "metadata": {},
   "outputs": [
    {
     "data": {
      "image/png": "[encoded data removed]",
      "text/plain": [
       "<Figure size 640x480 with 1 Axes>"
      ]
     },
     "metadata": {},
     "output_type": "display_data"
    },
    {
     "data": {
      "text/plain": [
       "<Figure size 640x480 with 0 Axes>"
      ]
     },
     "metadata": {},
     "output_type": "display_data"
    }
   ],
   "source": [
    "plt.plot(r.history['accuracy'], label='train acc')\n",
    "plt.plot(r.history['val_accuracy'], label='val acc')\n",
    "plt.legend()\n",
    "plt.show()\n",
    "plt.savefig('AccVal_acc')"
   ]
  },
  {
   "cell_type": "code",
   "execution_count": 14,
   "id": "d78ce0b8",
   "metadata": {},
   "outputs": [],
   "source": [
    "import tensorflow as tf\n",
    "\n",
    "from keras.models import load_model\n",
    "\n",
    "model.save('shoe_classif.h5')"
   ]
  },
  {
   "cell_type": "markdown",
   "id": "d6589531",
   "metadata": {},
   "source": [
    "## Interpretation of results\n",
    "#### We have used VGG16 with pre-trained weights from imagenet and have used transfer learning to model the Nike,converse and adidas dataset from kaggle. We have achieved a accuracy of 100% and further we have used ModelCheckpoint along with Earlystopping to stop at the epoch with the highest validation accuracy"
   ]
  },
  {
   "cell_type": "markdown",
   "id": "ffd1f95e",
   "metadata": {},
   "source": [
    "#### Written and executed by Subarthin R"
   ]
  },
  {
   "cell_type": "code",
   "execution_count": null,
   "id": "634f0221",
   "metadata": {},
   "outputs": [],
   "source": []
  }
 ],
 "metadata": {
  "kernelspec": {
   "display_name": "Python 3 (ipykernel)",
   "language": "python",
   "name": "python3"
  },
  "language_info": {
   "codemirror_mode": {
    "name": "ipython",
    "version": 3
   },
   "file_extension": ".py",
   "mimetype": "text/x-python",
   "name": "python",
   "nbconvert_exporter": "python",
   "pygments_lexer": "ipython3",
   "version": "3.8.0"
  }
 },
 "nbformat": 4,
 "nbformat_minor": 5
}
